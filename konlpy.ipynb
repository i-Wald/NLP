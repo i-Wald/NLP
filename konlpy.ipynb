{
  "nbformat": 4,
  "nbformat_minor": 0,
  "metadata": {
    "colab": {
      "provenance": [],
      "authorship_tag": "ABX9TyM6akCqLhXNKRAz3X3lJ3UT"
    },
    "kernelspec": {
      "name": "python3",
      "display_name": "Python 3"
    },
    "language_info": {
      "name": "python"
    }
  },
  "cells": [
    {
      "cell_type": "code",
      "source": [
        "# 구글 drive 연결\n",
        "from google.colab import drive\n",
        "drive.mount(\"/content/drive\")\n",
        "\n",
        "!pip install --upgrade pip\n",
        "!pip install --root-user-action=ignore requests\n",
        "!pip install mecab-python3\n",
        "\n",
        "# 코랩 연동 konlpy, Mecab 형태소 분석기 설치\n",
        "!curl -s https://raw.githubusercontent.com/teddylee777/machine-learning/master/99-Misc/01-Colab/mecab-colab.sh | bash\n",
        "\n",
        "# Mecab과 Okt 불러오기\n",
        "from konlpy.tag import Mecab, Okt\n",
        "mecab = Mecab()                      # 객체 생성\n",
        "okt = Okt()\n",
        "\n",
        "text = \"미래를 예측하는 가장 좋은 방법은 미래를 창조하는 것입니다. 이는 아브라함 링컨의 유명한 말입니다.\"\n",
        "\n",
        "# Okt 형태소 분석기\n",
        "morphs_okt = okt.morphs(text)\n",
        "print(f'Okt 형태소 분석기의 결과 \\n{morphs_okt}')\n",
        "\n",
        "# Mecab 형태소 분석기\n",
        "morphs_mecab = mecab.morphs(text)\n",
        "print(f'Mecab 형태소 분석기의 결과: \\n{morphs_mecab}')\n",
        "\n",
        "#pos() 함수를 이용해 형태소와 품사 추출\n",
        "pos_okt = okt.pos(text)\n",
        "print(f'Okt 분석기에 따른 형태소와 품사: \\n{pos_okt}')\n",
        "\n",
        "pos_mecab = mecab.pos(text)\n",
        "print(f'Mecab 분석기에 따른 형태소와 품사: \\n{pos_mecab}')\n",
        "\n",
        "#  Okt 분석기를 활용해 명사, 동사, 형용사만 추출\n",
        "okt_words = []\n",
        "\n",
        "for word in pos_okt:\n",
        "    if (\"Noun\" in word or \"Verb\" in word or \"Adjective\" in word):\n",
        "        okt_words.append(word[0])\n",
        "print(f'Okt 분석기를 이용해 추출한 명사, 동사, 형용사: \\n{okt_words}')\n",
        "\n",
        "# Mecab 분석기를 활용해 명사, 동사, 형용사만 추출\n",
        "mecab_words = []\n",
        "\n",
        "for word in pos_mecab:\n",
        "    if (\"NNG\" in word[1].split(\"+\") or \"NNP\" in word[1].split(\"+\") or \"VV\" in word[1].split(\"+\") or \"VA\" in word[1].split(\"+\")):\n",
        "        mecab_words.append(word[0])\n",
        "print(f'Mecab 분석기를 이용해 추출한 명상, 동사, 형용사: \\n{mecab_words}')"
      ],
      "metadata": {
        "id": "8NIh926hEmnk"
      },
      "execution_count": null,
      "outputs": []
    }
  ]
}
