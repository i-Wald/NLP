{
  "nbformat": 4,
  "nbformat_minor": 0,
  "metadata": {
    "colab": {
      "provenance": [],
      "authorship_tag": "ABX9TyOPT9BTusDkcCgMcf1i6ga6",
      "include_colab_link": true
    },
    "kernelspec": {
      "name": "python3",
      "display_name": "Python 3"
    },
    "language_info": {
      "name": "python"
    }
  },
  "cells": [
    {
      "cell_type": "markdown",
      "metadata": {
        "id": "view-in-github",
        "colab_type": "text"
      },
      "source": [
        "<a href=\"https://colab.research.google.com/github/i-Wald/NLP/blob/main/NLP_konlpy.ipynb\" target=\"_parent\"><img src=\"https://colab.research.google.com/assets/colab-badge.svg\" alt=\"Open In Colab\"/></a>"
      ]
    },
    {
      "cell_type": "code",
      "source": [
        "# 구글 drive 연결\n",
        "from google.colab import drive\n",
        "drive.mount(\"/content/drive\")"
      ],
      "metadata": {
        "id": "8NIh926hEmnk"
      },
      "execution_count": null,
      "outputs": []
    },
    {
      "cell_type": "code",
      "execution_count": null,
      "metadata": {
        "id": "8KPix0QtnGS5"
      },
      "outputs": [],
      "source": [
        "!pip install --upgrade pip\n",
        "!pip install --root-user-action=ignore requests\n",
        "!pip install mecab-python3"
      ]
    },
    {
      "cell_type": "code",
      "execution_count": null,
      "metadata": {
        "id": "EpfDu58Oh_rA"
      },
      "outputs": [],
      "source": [
        "# 코랩 연동 konlpy, Mecab 형태소 분석기 설치\n",
        "!curl -s https://raw.githubusercontent.com/teddylee777/machine-learning/master/99-Misc/01-Colab/mecab-colab.sh | bash"
      ]
    },
    {
      "cell_type": "code",
      "execution_count": null,
      "metadata": {
        "id": "1oA6rOOoizqr"
      },
      "outputs": [],
      "source": [
        "# Mecab과 Okt 불러오기\n",
        "from konlpy.tag import Mecab, Okt\n",
        "\n",
        "mecab = Mecab()\n",
        "okt = Okt()"
      ]
    },
    {
      "cell_type": "code",
      "source": [
        "text = \"미래를 예측하는 가장 좋은 방법은 미래를 창조하는 것입니다. 이는 아브라함 링컨의 유명한 말입니다.\"\n",
        "\n",
        "# Okt 형태소 분석기\n",
        "morphs_okt = okt.morphs(text)\n",
        "print(f'Okt 형태소 분석기의 결과 \\n{morphs_okt}')\n",
        "\n",
        "# Mecab 형태소 분석기\n",
        "morphs_mecab = mecab.morphs(text)\n",
        "print(f'Mecab 형태소 분석기의 결과: \\n{morphs_mecab}')"
      ],
      "metadata": {
        "id": "FFSy5C24ryrX"
      },
      "execution_count": null,
      "outputs": []
    },
    {
      "cell_type": "code",
      "source": [
        "#pos() 함수를 이용해 형태소와 품사 추출\n",
        "pos_okt = okt.pos(text)\n",
        "print(f'Okt 분석기에 따른 형태소와 품사: \\n{pos_okt}')\n",
        "\n",
        "pos_mecab = mecab.pos(text)\n",
        "print(f'Mecab 분석기에 따른 형태소와 품사: \\n{pos_mecab}')"
      ],
      "metadata": {
        "id": "2KNmQiB3Jak-"
      },
      "execution_count": null,
      "outputs": []
    },
    {
      "cell_type": "code",
      "execution_count": null,
      "metadata": {
        "id": "btT0PjLOiygS"
      },
      "outputs": [],
      "source": [
        "#  Okt 분석기를 활용해 명사, 동사, 형용사만 추출\n",
        "okt_words = []\n",
        "\n",
        "for word in pos_okt:\n",
        "    if (\"Noun\" in word or \"Verb\" in word or \"Adjective\" in word):\n",
        "        okt_words.append(word[0])\n",
        "print(f'Okt 분석기를 이용해 추출한 명사, 동사, 형용사: \\n{okt_words}')\n",
        "\n",
        "# Mecab 분석기를 활용해 명사, 동사, 형용사만 추출\n",
        "mecab_words = []\n",
        "\n",
        "for word in pos_mecab:\n",
        "    if (\"NNG\" in word[1].split(\"+\") or \"NNP\" in word[1].split(\"+\") or \"VV\" in word[1].split(\"+\") or \"VA\" in word[1].split(\"+\")):\n",
        "        mecab_words.append(word[0])\n",
        "print(f'Mecab 분석기를 이용해 추출한 명상, 동사, 형용사: \\n{mecab_words}')"
      ]
    }
  ]
}