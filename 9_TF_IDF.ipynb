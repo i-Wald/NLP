{
  "nbformat": 4,
  "nbformat_minor": 0,
  "metadata": {
    "colab": {
      "provenance": [],
      "authorship_tag": "ABX9TyP7Pj6S676T+Blpfhgb27i7"
    },
    "kernelspec": {
      "name": "python3",
      "display_name": "Python 3"
    },
    "language_info": {
      "name": "python"
    }
  },
  "cells": [
    {
      "cell_type": "code",
      "source": [
        "# TfidfVectorizer() 불러와 객체 생성\n",
        "from sklearn.feature_extraction.text import TfidfVectorizer\n",
        "tfidfvec = TfidfVectorizer()\n",
        "\n",
        "text = [\"미래를 예측하는 가장 좋은 방법은 미래를 창조하는 것입니다.\",\n",
        "        \"이는 아브라함 링컨의 유명한 말입니다.\"]\n",
        "\n",
        "# fit()함수를 이용해 단어 사전 생성\n",
        "tfidfvec.fit(text)\n",
        "vocab = tfidfvec.vocabulary_          # 생성된 단어 사전 확인\n",
        "print(vocab)                          # 단어 사전 확인\n",
        "\n",
        "# 문장 행렬화\n",
        "sentence = [text[0]]                                     # 1차원 데이터로 생성(iteral 형태)\n",
        "matrix_tfidf = tfidfvec.transform(sentence).toarray()    # 희소표현을 행렬화(2차원 배열)\n",
        "print(matrix_tfidf)"
      ],
      "metadata": {
        "id": "u58S8vsy7ZKq"
      },
      "execution_count": null,
      "outputs": []
    }
  ]
}
