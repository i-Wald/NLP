{
  "nbformat": 4,
  "nbformat_minor": 0,
  "metadata": {
    "colab": {
      "provenance": [],
      "authorship_tag": "ABX9TyNRCWcDZx/DoM1c4SNMO9EA"
    },
    "kernelspec": {
      "name": "python3",
      "display_name": "Python 3"
    },
    "language_info": {
      "name": "python"
    }
  },
  "cells": [
    {
      "cell_type": "code",
      "execution_count": null,
      "metadata": {
        "id": "vDdOW1fq--pu"
      },
      "outputs": [],
      "source": [
        "# Tokenizer() 불러 객체 생성\n",
        "import tensorflow as tf\n",
        "tokenizer = tf.keras.preprocessing.text.Tokenizer()\n",
        "\n",
        "sentences = [\n",
        "        \"미래를 예측하는 가장 좋은 방법은 미래를 창조하는 것입니다.\",\n",
        "        \"이는 아브라함 링컨의 유명한 말입니다.\"\n",
        "        ]\n",
        "\n",
        "tokenizer.fit_on_texts(sentences)                   # 공백 기준으로 토큰화\n",
        "\n",
        "counts = tokenizer.word_counts                      # 빈도수 파악\n",
        "print(f'단어의 빈도수; \\n{counts}')\n",
        "\n",
        "word_index = tokenizer.word_index                   # 빈도수(+입력순서) 기준으로 단어 사전 생성\n",
        "print(f'단어의 순서: \\n{word_index}')\n",
        "\n",
        "sentence = [sentences[0]]                           # 정수 인코딩\n",
        "encoded = tokenizer.texts_to_sequences(sentence)[0]\n",
        "print(encoded)\n",
        "\n",
        "one_hot = tf.keras.utils.to_categorical(encoded)    # one hot encoding 과정\n",
        "print(one_hot)"
      ]
    }
  ]
}
