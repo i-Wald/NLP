{
  "nbformat": 4,
  "nbformat_minor": 0,
  "metadata": {
    "colab": {
      "provenance": [],
      "authorship_tag": "ABX9TyOZPGF5/dOHje1B/BJ86f3l"
    },
    "kernelspec": {
      "name": "python3",
      "display_name": "Python 3"
    },
    "language_info": {
      "name": "python"
    }
  },
  "cells": [
    {
      "cell_type": "code",
      "source": [
        "# transformers 설치\n",
        "!pip install transformers\n",
        "\n",
        "# 라이브러리\n",
        "from transformers import pipeline\n",
        "from transformers import PreTrainedTokenizerFast, BartForConditionalGeneration\n",
        "\n",
        "tokenizer = PreTrainedTokenizerFast.from_pretrained('digit82/kobart-summarization')    # Tokenizer 객체 생성\n",
        "model = BartForConditionalGeneration.from_pretrained('digit82/kobart-summarization')   # 생성 모델 객체 생성\n",
        "sum = pipeline(\"summarization\", model = model, tokenizer = tokenizer)                  # pipeline 객체 생성"
      ],
      "metadata": {
        "id": "hgS_hiW5B1ie"
      },
      "execution_count": null,
      "outputs": []
    },
    {
      "cell_type": "code",
      "source": [
        "# 한글 텍스트\n",
        "text = '''\n",
        "건강보험심사평가원이 지난달 정보시스템 개발 생산성 향상과 디지털 역량 강화를 위한 ‘IT 표준 개발 가이드’를 제작했다.\n",
        "심사평가원은 6일 이같은 사실을 알리고 정보시스템 개발에 필요한 구체적이고 명확한 가이드라인을 제공함으로써, 직원별 시스템개발 품질 편차를 해소해 일관된 품질과 성능의 정보시스템을 제공할 수 있게 됐다고 밝혔다.\n",
        "최근 보건의료 환경은 고가 중증질환 치료제의 관리 필요성 증가, 디지털 치료기기의 발달, 혁신 의료기술의 고도화 등으로 급속히 변화해왔다.\n",
        "이에 심사평가원 정보시스템의 개발 수요도 지속적으로 증가했으며, IT기술의 복잡도, 난이도 상승으로 시스템 개발에 소요되는 인력과 시간 또한 증가했다.\n",
        "심사평가원은 이번 표준 개발 가이드를 통해 IT기술 습득 및 분석을 위해 소요되는 약 6만여 시간을 대폭 단축할 것으로 기대하고 있다.\n",
        "표준 개발 가이드는 심사평가원 내부 정보시스템 전문가들이 올해 5~9월까지 5개월간 참여해 현장에서 바로 사용할 수 있는 실사례 중심으로 작성됐다.\n",
        "가이드에는 전산개발 표준 정의, 개발도구 선택 기준, 코딩 규칙, 개발을 위한 환경설정 등 프로그램 표준 정의가 수록됐다.\n",
        "또한 개발자들이 쉽게 개발할 수 있도록 업무분석, 설계, 개발방법 등의 설명과, 개발 과정에서 자주 접하는 오류나 실수에 대한 해결책 등도 포함됐다.\n",
        "심사평가원은 앞으로 업무적용도 조사를 통해 미흡한 점을 보완하는 등 지속적으로 활용도를 확대해 나갈 예정이다.\n",
        "정보운영실 최동진 실장은 “표준 개발 가이드 제작으로 정보시스템 품질을 높이고, 개발 생산성을 향상시켜 심사평가원의 디지털 역량을 한층 강화시킬 수 있게 됐다”며 “이러한 디지털 역량 강화를 통해 국민의 보건의료 서비스 향상을 위한 정보기술을 선도할 수 있도록 지속적으로 노력할 것”이라고 밝혔다.\n",
        "'''\n",
        "# 데이터 전처리\n",
        "text_kor = text.replace('\\n', ' ')\n",
        "sum_kor = sum(text_kor, min_length = 20, max_length = 100)\n",
        "print(sum_kor)"
      ],
      "metadata": {
        "id": "bf8X5S6-E_mM"
      },
      "execution_count": null,
      "outputs": []
    },
    {
      "cell_type": "code",
      "source": [
        "# 영어 텍스트\n",
        "text = '''\n",
        "Virtual urgent care didn't make a dent in diverting patients with less severe health problems from emergency departments during the COVID-19 pandemic in Ontario, say physicians and researchers.\n",
        "During the early days of COVID, when physical distancing was strongly encouraged, health care largely shifted to virtual delivery instead of face to face.\n",
        "In Monday's issue of the Canadian Medical Association Journal (CMAJ), Shelley McLeod, a clinical epidemiologist at Sinai Health and associate professor at the University of Toronto, and her team published a study that assessed more than 19,000 virtual urgent care visits across Ontario from December 2020 to September 2021.\n",
        "The researchers looked at how ill patients were, their later in-person visits to an emergency department and outcomes at a mix of urban, pediatric and northern settings across the province.\n",
        "Of all those patients in the study, nearly 13 per cent went to emergency in person within three days of a virtual visit, and almost 22 per cent did so within a month of being seen via video call or by phone.\n",
        "\"We found no overall impact of the provincial [virtual urgent care] pilot program on both subsequent emergency department visits and hospital admissions, although an important percentage of [virtual care] patients subsequently attended an emergency department in person,\" McLeod and her team wrote.\n",
        "Young adults, city dwellers and those from higher-income neighbourhoods accessed virtual services, and those who already had a family physician or primary care provider accessed virtual services the most, the researchers found.\n",
        "'''\n",
        "\n",
        "# 데이터 전처리\n",
        "text_eng = text.replace('\\n', ' ')\n",
        "sum_eng = sum(text_eng, min_length = 20, max_length = 100)\n",
        "print(sum_eng)"
      ],
      "metadata": {
        "id": "K57KSeVmEI6_"
      },
      "execution_count": null,
      "outputs": []
    }
  ]
}