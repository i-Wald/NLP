{
  "nbformat": 4,
  "nbformat_minor": 0,
  "metadata": {
    "colab": {
      "provenance": [],
      "authorship_tag": "ABX9TyOZPGF5/dOHje1B/BJ86f3l"
    },
    "kernelspec": {
      "name": "python3",
      "display_name": "Python 3"
    },
    "language_info": {
      "name": "python"
    }
  },
  "cells": [
    {
      "cell_type": "code",
      "source": [
        "# transformers 설치\n",
        "!pip install transformers\n",
        "\n",
        "# 라이브러리\n",
        "from transformers import pipeline\n",
        "from transformers import PreTrainedTokenizerFast, BartForConditionalGeneration\n",
        "\n",
        "tokenizer = PreTrainedTokenizerFast.from_pretrained('digit82/kobart-summarization')    # Tokenizer 객체 생성\n",
        "model = BartForConditionalGeneration.from_pretrained('digit82/kobart-summarization')   # 생성 모델 객체 생성\n",
        "sum = pipeline(\"summarization\", model = model, tokenizer = tokenizer)                  # pipeline 객체 생성"
      ],
      "metadata": {
        "id": "hgS_hiW5B1ie"
      },
      "execution_count": null,
      "outputs": []
    },
    {
      "cell_type": "code",
      "source": [
        "# 한글 텍스트\n",
        "text = '''\n",
        @@@@@'''\n",
        "# 데이터 전처리\n",
        "text_kor = text.replace('\\n', ' ')\n",
        "sum_kor = sum(text_kor, min_length = 20, max_length = 100)\n",
        "print(sum_kor)"
      ],
      "metadata": {
        "id": "bf8X5S6-E_mM"
      },
      "execution_count": null,
      "outputs": []
    },
    {
      "cell_type": "code",
      "source": [
        "# 영어 텍스트\n",
        "text = '''\n",
        #####"'''\n",
        "\n",
        "# 데이터 전처리\n",
        "text_eng = text.replace('\\n', ' ')\n",
        "sum_eng = sum(text_eng, min_length = 20, max_length = 100)\n",
        "print(sum_eng)"
      ],
      "metadata": {
        "id": "K57KSeVmEI6_"
      },
      "execution_count": null,
      "outputs": []
    }
  ]
}
