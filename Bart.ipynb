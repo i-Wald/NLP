{
  "nbformat": 4,
  "nbformat_minor": 0,
  "metadata": {
    "colab": {
      "provenance": [],
      "authorship_tag": "ABX9TyNmcgG/Ucp3bgSxquhkiA2n"
    },
    "kernelspec": {
      "name": "python3",
      "display_name": "Python 3"
    },
    "language_info": {
      "name": "python"
    }
  },
  "cells": [
    {
      "cell_type": "code",
      "execution_count": null,
      "metadata": {
        "id": "y38JRrTfGZff"
      },
      "outputs": [],
      "source": [
        "# transformer 라이브러리 설치\n",
        "!pip install transformers\n",
        "\n",
        "# 라이브러리\n",
        "from transformers import pipeline\n",
        "from transformers import PreTrainedTokenizerFast, BartForConditionalGeneration\n",
        "\n",
        "tokenizer = PreTrainedTokenizerFast.from_pretrained('digit82/kobart-summarization')  # Tokenizer 객체 생성\n",
        "model = BartForConditionalGeneration.from_pretrained('digit82/kobart-summarization') # 모델 객체 생성\n",
        "\n",
        "vocab = tokenizer.get_vocab()                                 # 단어 사전 생성\n",
        "'''\n",
        "print(tokenizer.all_special_tokens)                           # tokenizer의 special token\n",
        "print(tokenizer.all_special_ids)\n",
        "print(tokenizer.bos_token_id)\n",
        "print(tokenizer.eos_token_id)\n",
        "'''"
      ]
    },
    {
      "cell_type": "code",
      "source": [
        "# 한글 텍스트\n",
        "text = '''\n",
        "건강보험심사평가원이 지난달 정보시스템 개발 생산성 향상과 디지털 역량 강화를 위한 ‘IT 표준 개발 가이드’를 제작했다.\n",
        "심사평가원은 6일 이같은 사실을 알리고 정보시스템 개발에 필요한 구체적이고 명확한 가이드라인을 제공함으로써, 직원별 시스템개발 품질 편차를 해소해 일관된 품질과 성능의 정보시스템을 제공할 수 있게 됐다고 밝혔다.\n",
        "최근 보건의료 환경은 고가 중증질환 치료제의 관리 필요성 증가, 디지털 치료기기의 발달, 혁신 의료기술의 고도화 등으로 급속히 변화해왔다.\n",
        "이에 심사평가원 정보시스템의 개발 수요도 지속적으로 증가했으며, IT기술의 복잡도, 난이도 상승으로 시스템 개발에 소요되는 인력과 시간 또한 증가했다.\n",
        "심사평가원은 이번 표준 개발 가이드를 통해 IT기술 습득 및 분석을 위해 소요되는 약 6만여 시간을 대폭 단축할 것으로 기대하고 있다.\n",
        "표준 개발 가이드는 심사평가원 내부 정보시스템 전문가들이 올해 5~9월까지 5개월간 참여해 현장에서 바로 사용할 수 있는 실사례 중심으로 작성됐다.\n",
        "가이드에는 전산개발 표준 정의, 개발도구 선택 기준, 코딩 규칙, 개발을 위한 환경설정 등 프로그램 표준 정의가 수록됐다.\n",
        "또한 개발자들이 쉽게 개발할 수 있도록 업무분석, 설계, 개발방법 등의 설명과, 개발 과정에서 자주 접하는 오류나 실수에 대한 해결책 등도 포함됐다.\n",
        "심사평가원은 앞으로 업무적용도 조사를 통해 미흡한 점을 보완하는 등 지속적으로 활용도를 확대해 나갈 예정이다.\n",
        "정보운영실 최동진 실장은 “표준 개발 가이드 제작으로 정보시스템 품질을 높이고, 개발 생산성을 향상시켜 심사평가원의 디지털 역량을 한층 강화시킬 수 있게 됐다”며 “이러한 디지털 역량 강화를 통해 국민의 보건의료 서비스 향상을 위한 정보기술을 선도할 수 있도록 지속적으로 노력할 것”이라고 밝혔다.\n",
        "'''\n",
        "\n",
        "text_kor = text.replace('\\n', ' ')                                            # 데이터 전처리\n",
        "input_ids = tokenizer.encode(text_kor)                                        # 토큰화+수치화\n",
        "input_ids = [tokenizer.bos_token_id] + input_ids + [tokenizer.eos_token_id]   # 입력 데이터 생성\n",
        "print(input_ids)\n",
        "\n",
        "# 요약 문장 생성\n",
        "import torch\n",
        "\n",
        "sentence = torch.tensor([input_ids])\n",
        "summary_ids = model.generate(sentence, num_beams = 4, max_length = 512)\n",
        "\n",
        "# 디코딩된 요약 문장 한글로 복원\n",
        "summarized_text = tokenizer.decode(summary_ids[0].tolist(),\n",
        "                                   skip_special_tokens = True)\n",
        "print(summarized_text)\n",
        "\n",
        "# 토큰화+수치화\n",
        "input_ids = tokenizer.encode(text_kor)\n",
        "\n",
        "# 입력 데이터 생성\n",
        "input_ids = [tokenizer.bos_token_id] + input_ids + [tokenizer.eos_token_id]\n",
        "print(input_ids)\n"
      ],
      "metadata": {
        "id": "6etuvM9iMSkq"
      },
      "execution_count": null,
      "outputs": []
    }
  ]
}