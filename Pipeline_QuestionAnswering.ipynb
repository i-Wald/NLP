{
  "nbformat": 4,
  "nbformat_minor": 0,
  "metadata": {
    "colab": {
      "provenance": [],
      "authorship_tag": "ABX9TyNXjIw4lvowF+D/27N4NB4r"
    },
    "kernelspec": {
      "name": "python3",
      "display_name": "Python 3"
    },
    "language_info": {
      "name": "python"
    }
  },
  "cells": [
    {
      "cell_type": "code",
      "execution_count": null,
      "metadata": {
        "id": "nNBhY4U0PSsC"
      },
      "outputs": [],
      "source": [
        "from google.colab import drive\n",
        "drive.mount('/content/drive')\n",
        "\n",
        "!pip install transformers\n",
        "from transformers import AutoModelForQuestionAnswering, AutoTokenizer\n",
        "from transformers import pipeline\n",
        "\n",
        "model_name = 'bespin-global/klue-bert-base-aihub-mrc'                            # 사전 학습된 QA 모델\n",
        "\n",
        "tokenizer = AutoTokenizer.from_pretrained(model_name)                            # QA 모델 객체 생성\n",
        "model = AutoModelForQuestionAnswering.from_pretrained(model_name)\n",
        "\n",
        "# 질문, 지문 데이터 생성\n",
        "question = '######?'\n",
        "\n",
        "context = '''@@@@@'''\n",
        "\n",
        "# QA pipeline 객체 생성 및 QA 실행하기\n",
        "\n",
        "quest_answ = pipeline('question-answering', model=model, tokenizer = tokenizer)  # pipeline 객체 생성\n",
        "answer = quest_answ(question=question, context = context)\n",
        "print(answer)"
      ]
    }
  ]
}