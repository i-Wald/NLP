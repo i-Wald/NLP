{
  "nbformat": 4,
  "nbformat_minor": 0,
  "metadata": {
    "colab": {
      "provenance": [],
      "authorship_tag": "ABX9TyMpO4KEo/Ceau8CDNY6BYT9"
    },
    "kernelspec": {
      "name": "python3",
      "display_name": "Python 3"
    },
    "language_info": {
      "name": "python"
    }
  },
  "cells": [
    {
      "cell_type": "code",
      "execution_count": null,
      "metadata": {
        "id": "THdSZ_vqDLFu"
      },
      "outputs": [],
      "source": [
        "# 라이브러리\n",
        "!pip install transformers\n",
        "from transformers import AutoModelForQuestionAnswering, AutoTokenizer\n",
        "from transformers import pipeline\n",
        "\n",
        "# 사전 학습된 모델과 tokenizer\n",
        "model_name = 'bespin-global/klue-bert-base-aihub-mrc'\n",
        "\n",
        "# model & tokenizer 객체 생성\n",
        "tokenizer = AutoTokenizer.from_pretrained(model_name)\n",
        "model = AutoModelForQuestionAnswering.from_pretrained(model_name)\n",
        "\n",
        "# 질문, 지문 데이터 생성\n",
        "question = '######'\n",
        "context = '''@@@@@@@@@@@@@'''\n",
        "\n",
        "# pipeline 객체 생성\n",
        "qa = pipeline('question-answering', model=model, tokenizer = tokenizer)\n",
        "answer = qa(question=question, context = context)\n",
        "print(answer)              # 정답 확인"
      ]
    }
  ]
}