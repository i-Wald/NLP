{
  "nbformat": 4,
  "nbformat_minor": 0,
  "metadata": {
    "colab": {
      "provenance": [],
      "authorship_tag": "ABX9TyOcCyILXEEQ4hDFGaGPYXUF"
    },
    "kernelspec": {
      "name": "python3",
      "display_name": "Python 3"
    },
    "language_info": {
      "name": "python"
    }
  },
  "cells": [
    {
      "cell_type": "code",
      "execution_count": null,
      "metadata": {
        "id": "mZRkX3VbJF7W"
      },
      "outputs": [],
      "source": [
        "from google.colab import drive\n",
        "drive.mount(\"/content/drive\")"
      ]
    },
    {
      "cell_type": "code",
      "source": [
        "# HuggingFace에서 제공하는 Tokenizer 활용\n",
        "!pip install tokenizers\n",
        "\n",
        "# SentencePiece Tokenizer 모델 불러와 객체 생성\n",
        "from tokenizers import SentencePieceBPETokenizer\n",
        "tokenizer_sentence = SentencePieceBPETokenizer()\n",
        "\n",
        "# 파일 경로(영화평 모음)\n",
        "nsmc_train_text = \"/content/drive/MyDrive/NLP/nsmc_train.txt\"\n",
        "nsmc_test_text = \"/content/drive/MyDrive/NLP/nsmc_test.txt\"\n",
        "\n",
        "# SentencePiece Tokenizer 학습\n",
        "tokenizer_sentence.train(\n",
        "    files = [nsmc_train_text, nsmc_test_text],\n",
        "    vocab_size = 10000,\n",
        "    min_frequency = 1\n",
        ")\n",
        "\n",
        "vocab_sentencepiece = tokenizer_sentence.get_vocab()    # 생성된 단어 사전 불러오기\n",
        "print(f'단어 사전 자료형: {type(vocab_sentencepiece)}') # 단어 사전 자료형\n",
        "print(vocab_sentencepiece)                              # 단어 사전 출력\n",
        "\n",
        "save_file_path = \"/content/drive/MyDrive/NLP/sentencepiece\"\n",
        "\n",
        "tokenizer_sentence.save_model(save_file_path)      # 생성된 단어 사전 json + txt 형식으로 저장\n",
        "\n",
        "# json으로 생성된 단어 사전 확인하기\n",
        "import json\n",
        "\n",
        "vocab_file_path = \"/content/drive/MyDrive/NLP/sentencepiece/vocab.json\"\n",
        "with open(vocab_file_path, 'r') as json_file:\n",
        "    vocab_sentencepiece = json.load(json_file)\n",
        "\n",
        "print(f'변환된 자료형: {type(vocab_sentencepiece)}')\n",
        "print(f'단어 사전: \\n{vocab_sentencepiece}')\n",
        "\n",
        "# SentencePiece Tokenizer 적용\n",
        "text = \"미래를 예측하는 가장 좋은 방법은 미래를 창조하는 것입니다. 이는 아브라함 링컨의 유명한 말입니다.\"\n",
        "\n",
        "encoded_sentencepiece = tokenizer_sentence.encode(text)  # 토큰화 후 문장 숫자화 => 25개 token\n",
        "print(encoded_sentencepiece)\n",
        "\n",
        "print(f'ids: \\n{encoded_sentencepiece.ids}')        # 각 토큰의 아이디\n",
        "print(f'tokens: \\n{encoded_sentencepiece.tokens}')  # 토큰\n",
        "\n",
        "decoded_sentencepiece = tokenizer_sentence.decode(encoded_sentencepiece.ids)\n",
        "print(f'원문으로 변환: \\n{decoded_sentencepiece}')  # 토큰을 원문으로 변환"
      ],
      "metadata": {
        "id": "57SyPyYtJzju"
      },
      "execution_count": null,
      "outputs": []
    }
  ]
}