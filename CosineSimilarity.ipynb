{
  "nbformat": 4,
  "nbformat_minor": 0,
  "metadata": {
    "colab": {
      "provenance": [],
      "authorship_tag": "ABX9TyN0pJxHVpkcJKcFcSoXriTe"
    },
    "kernelspec": {
      "name": "python3",
      "display_name": "Python 3"
    },
    "language_info": {
      "name": "python"
    }
  },
  "cells": [
    {
      "cell_type": "code",
      "source": [
        "# TfidfVectorizer 불러 객체화\n",
        "from sklearn.feature_extraction.text import TfidfVectorizer\n",
        "from sklearn.metrics.pairwise import cosine_similarity\n",
        "\n",
        "tfidf = TfidfVectorizer()\n",
        "\n",
        "sentences = [\"비가 길게 지나고 기온이 곤두박질치겠습니다. 비구름 뒤로 기온이 크게 떨어지면서 초겨울 추위가 찾아오겠습니다.\",\n",
        "             \"단풍은 평균기온 상승과 불볕더위 등 이상기후로 절정 시기가 늦어지고 있습니다\"]\n",
        "\n",
        "tfidf.fit(sentences)  # 단어 사전 생성\n",
        "vocab = tfidf.vocabulary_\n",
        "print(vocab)\n",
        "print(len(vocab))     # 단어 총 개수\n",
        "\n",
        "# 1차원 배열 생성\n",
        "sentence1 = [sentences[0]]\n",
        "sentence2 = [sentences[1]]\n",
        "\n",
        "print(f'문장1: \\n{sentence1}')\n",
        "print(f'문장2: \\n{sentence2}')\n",
        "\n",
        "# 문장의 행렬화\n",
        "sentenceA = tfidf.transform(sentence1).toarray()\n",
        "sentenceB = tfidf.transform(sentence2).toarray()\n",
        "\n",
        "print(f'문장 A: \\n{sentenceA}')\n",
        "print(f'문장 B: \\n{sentenceB}')\n",
        "\n",
        "# 문장 간의 유사도\n",
        "similar_ratio = cosine_similarity(sentenceA, sentenceB)\n",
        "print(similar_ratio)"
      ],
      "metadata": {
        "id": "OeqzthBVdEVC"
      },
      "execution_count": null,
      "outputs": []
    }
  ]
}
