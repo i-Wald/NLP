{
  "nbformat": 4,
  "nbformat_minor": 0,
  "metadata": {
    "colab": {
      "provenance": [],
      "authorship_tag": "ABX9TyNXYNKmWYA/lXr9FNV3SKAv"
    },
    "kernelspec": {
      "name": "python3",
      "display_name": "Python 3"
    },
    "language_info": {
      "name": "python"
    }
  },
  "cells": [
    {
      "cell_type": "code",
      "source": [
        "# CountVectorizer 불러와 객체 생성\n",
        "from sklearn.feature_extraction.text import CountVectorizer\n",
        "countvec = CountVectorizer()\n",
        "\n",
        "text = [\"미래를 예측하는 가장 좋은 방법은 미래를 창조하는 것입니다.\",\n",
        "        \"이는 아브라함 링컨의 유명한 말입니다.\"]\n",
        "\n",
        "countvec.fit(text)                # fit() 함수 이용해 단어 사전 생성\n",
        "vocab = countvec.vocabulary_      # 생성된 단어 사전 확인\n",
        "print(type(vocab))                # 단어 사전 타입 확인\n",
        "print(vocab)                      # 단어 사전 확인\n",
        "\n",
        "# 희소표현을\n",
        "sentence = [text[0]]                               # 1차원 데이터로 생성(iteral 형태)\n",
        "matrix = countvec.transform(sentence)              # 희소표현을 행렬화(2차원 배열)\n",
        "x = matrix.toarray()\n",
        "print(x)"
      ],
      "metadata": {
        "id": "ROVdCQOQrnmy"
      },
      "execution_count": 5,
      "outputs": []
    }
  ]
}