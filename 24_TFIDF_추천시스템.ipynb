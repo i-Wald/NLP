{
  "nbformat": 4,
  "nbformat_minor": 0,
  "metadata": {
    "colab": {
      "provenance": [],
      "authorship_tag": "ABX9TyPSypva2BMrMzachevOl3Mu"
    },
    "kernelspec": {
      "name": "python3",
      "display_name": "Python 3"
    },
    "language_info": {
      "name": "python"
    }
  },
  "cells": [
    {
      "cell_type": "code",
      "source": [
        "from google.colab import drive\n",
        "drive.mount('/content/drive')\n",
        "\n",
        "!pip install sentence_transformers\n",
        "\n",
        "# 추천시스템- TF-IDF\n",
        "import pandas as pd\n",
        "from sklearn.feature_extraction.text import TfidfVectorizer\n",
        "from sklearn.metrics.pairwise import linear_kernel              # 다수 문장에 대한 유사도 계산\n",
        "\n",
        "# 테스트 데이터\n",
        "file_path = '/content/drive/MyDrive/NLP/movies_metadata.csv'\n",
        "df = pd.read_csv(file_path)\n",
        "\n",
        "# 데이터 전처리\n",
        "null_overview = df.overview.isnull().sum()                      # 결측치 확인\n",
        "null_title = df.title.isnull().sum()\n",
        "\n",
        "df.dropna(subset = ['overview', 'title'], inplace = True)       # 결측치 제거\n",
        "df.reset_index(drop = True, inplace=True)                       # 인덱스 재설정\n",
        "\n",
        "data = df.iloc[:10000, :]                                       # 일부 데이터 활용\n",
        "\n",
        "tfidf = TfidfVectorizer(stop_words= 'english')                  # 불용어 제거\n",
        "tfidf.fit(data.overview)                                        # overview 컬럼에 대한 단어 사전 생성\n",
        "tfidf_matrix = tfidf.transform(data.overview)                   # overview 컬럼의 각 문장을 행렬로 변환\n",
        "similarity = linear_kernel(tfidf_matrix, tfidf_matrix)          # overview에 대한 유사도 구하기\n",
        "title_index = pd.Series(data= data.index, index = data.title)   # 인덱스와 제목 위치 교환\n",
        "\n",
        "# 영화 추천함수\n",
        "def recommend(title, similarity):\n",
        "    idx = title_index[title]                                                   # 선택한 영화의 제목에서 유사한 영화의 인덱스 구하기\n",
        "    sim_score = [(idx, score) for idx, score in enumerate(similarity[idx])]    # 모든 영화에 대해 해당 영화와의 유사도를 구함\n",
        "    sim_score = sorted(sim_score, key=lambda x: -x[1])                         # 유사도에 따른 영화 정렬\n",
        "\n",
        "    movie_index = []                                                           # 유사도가 가장 큰 영화 인덱스 추출\n",
        "    for data in sim_score:\n",
        "        movie_index.append(data[0])\n",
        "    movie_title = df.title[movie_index]                                        # 유사도가 가장 큰 10개 추천의 제목\n",
        "\n",
        "    return movie_title\n",
        "\n",
        "recommend_movie = recommend('Toy Story', similarity)[:10]\n",
        "print(recommend_movie)\n",
        "\n"
      ],
      "metadata": {
        "id": "kLslFwdZNyox"
      },
      "execution_count": null,
      "outputs": []
    }
  ]
}