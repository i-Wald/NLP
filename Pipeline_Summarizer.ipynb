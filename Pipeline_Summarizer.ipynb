{
  "nbformat": 4,
  "nbformat_minor": 0,
  "metadata": {
    "colab": {
      "provenance": [],
      "authorship_tag": "ABX9TyMtX80SpPa+fnbYyrmmOZdT"
    },
    "kernelspec": {
      "name": "python3",
      "display_name": "Python 3"
    },
    "language_info": {
      "name": "python"
    }
  },
  "cells": [
    {
      "cell_type": "code",
      "execution_count": null,
      "metadata": {
        "id": "y38JRrTfGZff"
      },
      "outputs": [],
      "source": [
        "# transformer 라이브러리 설치\n",
        "!pip install transformers\n",
        "from transformers import pipeline\n",
        "\n",
        "# summarizer model\n",
        "summarizer_google = pipeline('summarization', model = 'google/pegasus-xsum')           # google/pegasus-xsum\n",
        "summarizer_face = pipeline('summarization', model = 'facebook/bart-large-cnn')         # facebook/bart-large-cnn\n",
        "\n",
        "# 영어 텍스트\n",
        "text = '''\n",
        "####\n",
        "'''\n",
        "\n",
        "# 데이터 전처리\n",
        "text_eng = text.replace('\\n', ' ')\n",
        "\n",
        "# 문서 요약\n",
        "sum_google = summarizer_google(text_eng)\n",
        "print(sum_google)\n",
        "\n",
        "# 문서 요약 실행\n",
        "sum_face = summarizer_face(text_eng)\n",
        "print(sum_face)"
      ]
    }
  ]
}