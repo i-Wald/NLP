{
  "nbformat": 4,
  "nbformat_minor": 0,
  "metadata": {
    "colab": {
      "provenance": [],
      "authorship_tag": "ABX9TyM3oVgMaTbZJZm+34wA7ykU"
    },
    "kernelspec": {
      "name": "python3",
      "display_name": "Python 3"
    },
    "language_info": {
      "name": "python"
    }
  },
  "cells": [
    {
      "cell_type": "code",
      "execution_count": null,
      "metadata": {
        "id": "y38JRrTfGZff"
      },
      "outputs": [],
      "source": [
        "# transformer 라이브러리 설치\n",
        "!pip install transformers\n",
        "from transformers import pipeline\n",
        "\n",
        "# summarizer model\n",
        "summarizer_google = pipeline('summarization', model = 'google/pegasus-xsum')           # google/pegasus-xsum\n",
        "summarizer_face = pipeline('summarization', model = 'facebook/bart-large-cnn')         # facebook/bart-large-cnn"
      ]
    },
    {
      "cell_type": "code",
      "source": [
        "# 영어 텍스트\n",
        "text = '''\n",
        "Virtual urgent care didn't make a dent in diverting patients with less severe health problems from emergency departments during the COVID-19 pandemic in Ontario, say physicians and researchers.\n",
        "During the early days of COVID, when physical distancing was strongly encouraged, health care largely shifted to virtual delivery instead of face to face.\n",
        "In Monday's issue of the Canadian Medical Association Journal (CMAJ), Shelley McLeod, a clinical epidemiologist at Sinai Health and associate professor at the University of Toronto, and her team published a study that assessed more than 19,000 virtual urgent care visits across Ontario from December 2020 to September 2021.\n",
        "The researchers looked at how ill patients were, their later in-person visits to an emergency department and outcomes at a mix of urban, pediatric and northern settings across the province.\n",
        "Of all those patients in the study, nearly 13 per cent went to emergency in person within three days of a virtual visit, and almost 22 per cent did so within a month of being seen via video call or by phone.\n",
        "\"We found no overall impact of the provincial [virtual urgent care] pilot program on both subsequent emergency department visits and hospital admissions, although an important percentage of [virtual care] patients subsequently attended an emergency department in person,\" McLeod and her team wrote.\n",
        "Young adults, city dwellers and those from higher-income neighbourhoods accessed virtual services, and those who already had a family physician or primary care provider accessed virtual services the most, the researchers found.\n",
        "'''\n",
        "\n",
        "# 데이터 전처리\n",
        "text_eng = text.replace('\\n', ' ')"
      ],
      "metadata": {
        "id": "OXYU2javGsKP"
      },
      "execution_count": 3,
      "outputs": []
    },
    {
      "cell_type": "code",
      "source": [
        "# 문서 요약\n",
        "sum_google = summarizer_google(text_eng)\n",
        "print(sum_google)"
      ],
      "metadata": {
        "id": "f47s18PMJK93"
      },
      "execution_count": null,
      "outputs": []
    },
    {
      "cell_type": "code",
      "source": [
        "# 문서 요약 실행\n",
        "sum_face = summarizer_face(text_eng)\n",
        "print(sum_face)"
      ],
      "metadata": {
        "id": "t0IhjKbmJkZI"
      },
      "execution_count": null,
      "outputs": []
    }
  ]
}