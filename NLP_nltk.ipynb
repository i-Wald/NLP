{
  "nbformat": 4,
  "nbformat_minor": 0,
  "metadata": {
    "colab": {
      "provenance": [],
      "authorship_tag": "ABX9TyNdtmpiqYQHkmr5bw4llTpU"
    },
    "kernelspec": {
      "name": "python3",
      "display_name": "Python 3"
    },
    "language_info": {
      "name": "python"
    }
  },
  "cells": [
    {
      "cell_type": "code",
      "execution_count": null,
      "metadata": {
        "id": "YzroqTjpbrdu"
      },
      "outputs": [],
      "source": [
        "# nltk 설치\n",
        "!pip install nltk\n",
        "\n",
        "# sent_tokenize, word_tokenize 불러오기\n",
        "import nltk\n",
        "from nltk.tokenize import sent_tokenize, word_tokenize\n",
        "\n",
        "# 추가 설치\n",
        "nltk.download (\"punkt\")\n",
        "\n",
        "# 영어 및 한글 테스트\n",
        "text_eng = \"The best way to predict the future is to create it. It's Abraham Lincoln's famous quote.\"\n",
        "text_kor = \"미래를 예측하는 가장 좋은 방법은 미래를 창조하는 것입니다. 이는 아브라함 링컨의 유명한 말입니다.\"\n",
        "\n",
        "# 문장 단위 토큰화\n",
        "sent_eng = sent_tokenize(text_eng)\n",
        "sent_kor = sent_tokenize(text_kor)\n",
        "\n",
        "# 토큰화 후 타입 확인\n",
        "print(f'타입 확인하기: \\n{type(sent_eng)}')\n",
        "\n",
        "print(f'영어 버전 출력: \\n{sent_eng}')\n",
        "print(f'한글 번전 출력: \\n{sent_kor}')\n",
        "\n",
        "# 단어 단위 토큰화\n",
        "word_eng = word_tokenize(text_eng)\n",
        "word_kor = word_tokenize(text_kor)\n",
        "\n",
        "print(f'영어 버전 출력: \\n{word_eng}')\n",
        "print(f'한글 버전 출력: \\n{word_kor}')"
      ]
    }
  ]
}