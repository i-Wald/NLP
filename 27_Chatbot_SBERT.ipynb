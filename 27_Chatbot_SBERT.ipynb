{
  "nbformat": 4,
  "nbformat_minor": 0,
  "metadata": {
    "colab": {
      "provenance": [],
      "authorship_tag": "ABX9TyNmx4D0K7O6Cqp+FSbRTy9x"
    },
    "kernelspec": {
      "name": "python3",
      "display_name": "Python 3"
    },
    "language_info": {
      "name": "python"
    }
  },
  "cells": [
    {
      "cell_type": "code",
      "source": [
        "import numpy as np\n",
        "import pandas as pd\n",
        "from numpy import dot\n",
        "import urllib.request\n",
        "\n",
        "# 챗봇 데이터 불러오기\n",
        "urllib.request.urlretrieve(\n",
        "    \"https://raw.githubusercontent.com/songys/Chatbot_data/master/ChatbotData.csv\",\n",
        "    filename=\"ChatBotData.csv\",\n",
        ")\n",
        "file_data = pd.read_csv(\"ChatBotData.csv\")\n",
        "\n",
        "# SBERT\n",
        "!pip install sentence_transformers\n",
        "from numpy.linalg import norm # 벡터 사이의 거리 계산\n",
        "from sentence_transformers import SentenceTransformer\n",
        "\n",
        "# 사전 학습 모델\n",
        "model = 'ddobokki/klue-roberta-small-nli-sts'\n",
        "sbert_model = SentenceTransformer(model)\n",
        "\n",
        "# 학습 데이터 전처리\n",
        "np_embed = [file_data.Q.apply(lambda x: sbert_model.encode(x))]                     # 임베딩 벡터 생성\n",
        "file_data['embedding'] = np_embed[0]                                                # embedding 컬럼 만들기\n",
        "\n",
        "def cos_sim(A, B):                                                                  # 두 문장 유사도 계산\n",
        "     return dot(A, B) / (norm(A) *norm(B))\n",
        "\n",
        "def chatbot(question):\n",
        "    embedding = sbert_model.encode(question)                                         # 질문 문장 임베딩 벡터\n",
        "    file_data['score'] = file_data.embedding.apply(lambda x: cos_sim(x, embedding))  # 코사인 유사도 계산\n",
        "    return file_data.loc[file_data['score'].idxmax()]['A']                           # 높은 유사도 값을 가진 인덱스 추출\n",
        "\n",
        "# 챗봇 성능 테스트\n",
        "chatbot('우주에 구멍이 생겼어요')"
      ],
      "metadata": {
        "id": "PY31Wg-0MaIp"
      },
      "execution_count": null,
      "outputs": []
    },
    {
      "cell_type": "code",
      "source": [
        "from google.colab import drive\n",
        "drive.mount(\"/content/drive\")\n",
        "\n",
        "# 학습된 모델 저장\n",
        "embed_path = '/content/drive/MyDrive/NLP/chatbot.npy'\n",
        "np.save(embed_path, np_embed)\n",
        "\n",
        "# 학습된 모델 불러오기\n",
        "embedding_path = '/content/drive/MyDrive/NLP/chatbot.npy'\n",
        "embedding_vectors = np.load(embedding_path, allow_pickle = True)\n"
      ],
      "metadata": {
        "id": "cbQbsjCB2D5n"
      },
      "execution_count": null,
      "outputs": []
    }
  ]
}